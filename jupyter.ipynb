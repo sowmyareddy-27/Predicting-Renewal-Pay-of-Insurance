{
    "cells": [
        {
            "cell_type": "code",
            "execution_count": 55,
            "metadata": {},
            "outputs": [],
            "source": "import pandas as pd\nimport numpy as np\n"
        },
        {
            "cell_type": "code",
            "execution_count": 56,
            "metadata": {},
            "outputs": [
                {
                    "data": {
                        "text/html": "<div>\n<style scoped>\n    .dataframe tbody tr th:only-of-type {\n        vertical-align: middle;\n    }\n\n    .dataframe tbody tr th {\n        vertical-align: top;\n    }\n\n    .dataframe thead th {\n        text-align: right;\n    }\n</style>\n<table border=\"1\" class=\"dataframe\">\n  <thead>\n    <tr style=\"text-align: right;\">\n      <th></th>\n      <th>id</th>\n      <th>perc_premium_paid_by_cash_credit</th>\n      <th>age_in_days</th>\n      <th>Income</th>\n      <th>Count_3-6_months_late</th>\n      <th>Count_6-12_months_late</th>\n      <th>Count_more_than_12_months_late</th>\n      <th>application_underwriting_score</th>\n      <th>no_of_premiums_paid</th>\n      <th>sourcing_channel</th>\n      <th>residence_area_type</th>\n    </tr>\n  </thead>\n  <tbody>\n    <tr>\n      <th>0</th>\n      <td>649</td>\n      <td>0.001</td>\n      <td>27384</td>\n      <td>51150</td>\n      <td>0.0</td>\n      <td>0.0</td>\n      <td>0.0</td>\n      <td>99.89</td>\n      <td>7</td>\n      <td>A</td>\n      <td>Rural</td>\n    </tr>\n    <tr>\n      <th>1</th>\n      <td>81136</td>\n      <td>0.124</td>\n      <td>23735</td>\n      <td>285140</td>\n      <td>0.0</td>\n      <td>0.0</td>\n      <td>0.0</td>\n      <td>98.93</td>\n      <td>19</td>\n      <td>A</td>\n      <td>Urban</td>\n    </tr>\n    <tr>\n      <th>2</th>\n      <td>70762</td>\n      <td>1.000</td>\n      <td>17170</td>\n      <td>186030</td>\n      <td>0.0</td>\n      <td>0.0</td>\n      <td>0.0</td>\n      <td>NaN</td>\n      <td>2</td>\n      <td>B</td>\n      <td>Urban</td>\n    </tr>\n    <tr>\n      <th>3</th>\n      <td>53935</td>\n      <td>0.198</td>\n      <td>16068</td>\n      <td>123540</td>\n      <td>0.0</td>\n      <td>0.0</td>\n      <td>0.0</td>\n      <td>99.00</td>\n      <td>11</td>\n      <td>B</td>\n      <td>Rural</td>\n    </tr>\n    <tr>\n      <th>4</th>\n      <td>15476</td>\n      <td>0.041</td>\n      <td>10591</td>\n      <td>200020</td>\n      <td>1.0</td>\n      <td>0.0</td>\n      <td>0.0</td>\n      <td>99.17</td>\n      <td>14</td>\n      <td>A</td>\n      <td>Rural</td>\n    </tr>\n  </tbody>\n</table>\n</div>",
                        "text/plain": "      id  perc_premium_paid_by_cash_credit  age_in_days  Income  \\\n0    649                             0.001        27384   51150   \n1  81136                             0.124        23735  285140   \n2  70762                             1.000        17170  186030   \n3  53935                             0.198        16068  123540   \n4  15476                             0.041        10591  200020   \n\n   Count_3-6_months_late  Count_6-12_months_late  \\\n0                    0.0                     0.0   \n1                    0.0                     0.0   \n2                    0.0                     0.0   \n3                    0.0                     0.0   \n4                    1.0                     0.0   \n\n   Count_more_than_12_months_late  application_underwriting_score  \\\n0                             0.0                           99.89   \n1                             0.0                           98.93   \n2                             0.0                             NaN   \n3                             0.0                           99.00   \n4                             0.0                           99.17   \n\n   no_of_premiums_paid sourcing_channel residence_area_type  \n0                    7                A               Rural  \n1                   19                A               Urban  \n2                    2                B               Urban  \n3                   11                B               Rural  \n4                   14                A               Rural  "
                    },
                    "execution_count": 56,
                    "metadata": {},
                    "output_type": "execute_result"
                }
            ],
            "source": "# The code was removed by Watson Studio for sharing."
        },
        {
            "cell_type": "code",
            "execution_count": 57,
            "metadata": {},
            "outputs": [
                {
                    "data": {
                        "text/html": "<div>\n<style scoped>\n    .dataframe tbody tr th:only-of-type {\n        vertical-align: middle;\n    }\n\n    .dataframe tbody tr th {\n        vertical-align: top;\n    }\n\n    .dataframe thead th {\n        text-align: right;\n    }\n</style>\n<table border=\"1\" class=\"dataframe\">\n  <thead>\n    <tr style=\"text-align: right;\">\n      <th></th>\n      <th>id</th>\n      <th>perc_premium_paid_by_cash_credit</th>\n      <th>age_in_days</th>\n      <th>Income</th>\n      <th>Count_3-6_months_late</th>\n      <th>Count_6-12_months_late</th>\n      <th>Count_more_than_12_months_late</th>\n      <th>application_underwriting_score</th>\n      <th>no_of_premiums_paid</th>\n      <th>sourcing_channel</th>\n      <th>residence_area_type</th>\n      <th>target</th>\n    </tr>\n  </thead>\n  <tbody>\n    <tr>\n      <th>0</th>\n      <td>110936</td>\n      <td>0.429</td>\n      <td>12058</td>\n      <td>355060</td>\n      <td>0.0</td>\n      <td>0.0</td>\n      <td>0.0</td>\n      <td>99.02</td>\n      <td>13</td>\n      <td>C</td>\n      <td>Urban</td>\n      <td>1</td>\n    </tr>\n    <tr>\n      <th>1</th>\n      <td>41492</td>\n      <td>0.010</td>\n      <td>21546</td>\n      <td>315150</td>\n      <td>0.0</td>\n      <td>0.0</td>\n      <td>0.0</td>\n      <td>99.89</td>\n      <td>21</td>\n      <td>A</td>\n      <td>Urban</td>\n      <td>1</td>\n    </tr>\n    <tr>\n      <th>2</th>\n      <td>31300</td>\n      <td>0.917</td>\n      <td>17531</td>\n      <td>84140</td>\n      <td>2.0</td>\n      <td>3.0</td>\n      <td>1.0</td>\n      <td>98.69</td>\n      <td>7</td>\n      <td>C</td>\n      <td>Rural</td>\n      <td>0</td>\n    </tr>\n    <tr>\n      <th>3</th>\n      <td>19415</td>\n      <td>0.049</td>\n      <td>15341</td>\n      <td>250510</td>\n      <td>0.0</td>\n      <td>0.0</td>\n      <td>0.0</td>\n      <td>99.57</td>\n      <td>9</td>\n      <td>A</td>\n      <td>Urban</td>\n      <td>1</td>\n    </tr>\n    <tr>\n      <th>4</th>\n      <td>99379</td>\n      <td>0.052</td>\n      <td>31400</td>\n      <td>198680</td>\n      <td>0.0</td>\n      <td>0.0</td>\n      <td>0.0</td>\n      <td>99.87</td>\n      <td>12</td>\n      <td>B</td>\n      <td>Urban</td>\n      <td>1</td>\n    </tr>\n  </tbody>\n</table>\n</div>",
                        "text/plain": "       id  perc_premium_paid_by_cash_credit  age_in_days  Income  \\\n0  110936                             0.429        12058  355060   \n1   41492                             0.010        21546  315150   \n2   31300                             0.917        17531   84140   \n3   19415                             0.049        15341  250510   \n4   99379                             0.052        31400  198680   \n\n   Count_3-6_months_late  Count_6-12_months_late  \\\n0                    0.0                     0.0   \n1                    0.0                     0.0   \n2                    2.0                     3.0   \n3                    0.0                     0.0   \n4                    0.0                     0.0   \n\n   Count_more_than_12_months_late  application_underwriting_score  \\\n0                             0.0                           99.02   \n1                             0.0                           99.89   \n2                             1.0                           98.69   \n3                             0.0                           99.57   \n4                             0.0                           99.87   \n\n   no_of_premiums_paid sourcing_channel residence_area_type  target  \n0                   13                C               Urban       1  \n1                   21                A               Urban       1  \n2                    7                C               Rural       0  \n3                    9                A               Urban       1  \n4                   12                B               Urban       1  "
                    },
                    "execution_count": 57,
                    "metadata": {},
                    "output_type": "execute_result"
                }
            ],
            "source": "\nbody = client_72078df4714c4f6faaf918e0f5908679.get_object(Bucket='datascience-donotdelete-pr-aqjf1vvulndmss',Key='train_qnU1GcL (1).csv')['Body']\n# add missing __iter__ method, so pandas accepts body as file-like object\nif not hasattr(body, \"__iter__\"): body.__iter__ = types.MethodType( __iter__, body )\n\ntrain = pd.read_csv(body)\ntrain.head()\n"
        },
        {
            "cell_type": "code",
            "execution_count": 58,
            "metadata": {},
            "outputs": [
                {
                    "data": {
                        "text/plain": "Index(['id', 'perc_premium_paid_by_cash_credit', 'age_in_days', 'Income',\n       'Count_3-6_months_late', 'Count_6-12_months_late',\n       'Count_more_than_12_months_late', 'application_underwriting_score',\n       'no_of_premiums_paid', 'sourcing_channel', 'residence_area_type',\n       'target'],\n      dtype='object')"
                    },
                    "execution_count": 58,
                    "metadata": {},
                    "output_type": "execute_result"
                }
            ],
            "source": "train.columns"
        },
        {
            "cell_type": "code",
            "execution_count": 59,
            "metadata": {},
            "outputs": [
                {
                    "data": {
                        "text/plain": "Index(['id', 'perc_premium_paid_by_cash_credit', 'age_in_days', 'Income',\n       'Count_3-6_months_late', 'Count_6-12_months_late',\n       'Count_more_than_12_months_late', 'application_underwriting_score',\n       'no_of_premiums_paid', 'sourcing_channel', 'residence_area_type'],\n      dtype='object')"
                    },
                    "execution_count": 59,
                    "metadata": {},
                    "output_type": "execute_result"
                }
            ],
            "source": "test.columns"
        },
        {
            "cell_type": "code",
            "execution_count": 60,
            "metadata": {},
            "outputs": [],
            "source": "train.rename(index = str, columns = {'Count_3-6_months_late':'Count_3_6_months_late','Count_6-12_months_late':'Count_6_12_months_late'},inplace = True)"
        },
        {
            "cell_type": "code",
            "execution_count": 61,
            "metadata": {},
            "outputs": [],
            "source": "test.rename(index = str, columns = {'Count_3-6_months_late':'Count_3_6_months_late','Count_6-12_months_late':'Count_6_12_months_late'},inplace = True)"
        },
        {
            "cell_type": "code",
            "execution_count": 62,
            "metadata": {},
            "outputs": [
                {
                    "data": {
                        "text/plain": "id                                  False\nperc_premium_paid_by_cash_credit    False\nage_in_days                         False\nIncome                              False\nCount_3_6_months_late                True\nCount_6_12_months_late               True\nCount_more_than_12_months_late       True\napplication_underwriting_score       True\nno_of_premiums_paid                 False\nsourcing_channel                    False\nresidence_area_type                 False\ntarget                              False\ndtype: bool"
                    },
                    "execution_count": 62,
                    "metadata": {},
                    "output_type": "execute_result"
                }
            ],
            "source": "train.isnull().any(axis = 0)"
        },
        {
            "cell_type": "code",
            "execution_count": 63,
            "metadata": {},
            "outputs": [
                {
                    "data": {
                        "text/plain": "id                                  False\nperc_premium_paid_by_cash_credit    False\nage_in_days                         False\nIncome                              False\nCount_3_6_months_late                True\nCount_6_12_months_late               True\nCount_more_than_12_months_late       True\napplication_underwriting_score       True\nno_of_premiums_paid                 False\nsourcing_channel                    False\nresidence_area_type                 False\ndtype: bool"
                    },
                    "execution_count": 63,
                    "metadata": {},
                    "output_type": "execute_result"
                }
            ],
            "source": "test.isnull().any(axis = 0)"
        },
        {
            "cell_type": "code",
            "execution_count": 64,
            "metadata": {},
            "outputs": [],
            "source": "train['Count_3_6_months_late'].fillna(train.Count_3_6_months_late.median(), inplace = True)\ntrain['Count_6_12_months_late'].fillna(train.Count_6_12_months_late.median(), inplace = True)\ntrain['Count_more_than_12_months_late'].fillna(train.Count_more_than_12_months_late.median(), inplace = True)\ntrain['application_underwriting_score'].fillna(train.application_underwriting_score.median(), inplace = True)"
        },
        {
            "cell_type": "code",
            "execution_count": 65,
            "metadata": {},
            "outputs": [],
            "source": "test['Count_3_6_months_late'].fillna(train.Count_3_6_months_late.median(), inplace = True)\ntest['Count_6_12_months_late'].fillna(train.Count_6_12_months_late.median(), inplace = True)\ntest['Count_more_than_12_months_late'].fillna(train.Count_more_than_12_months_late.median(), inplace = True)\ntest['application_underwriting_score'].fillna(train.application_underwriting_score.median(), inplace = True)"
        },
        {
            "cell_type": "code",
            "execution_count": 66,
            "metadata": {},
            "outputs": [
                {
                    "data": {
                        "text/plain": "id                                  False\nperc_premium_paid_by_cash_credit    False\nage_in_days                         False\nIncome                              False\nCount_3_6_months_late               False\nCount_6_12_months_late              False\nCount_more_than_12_months_late      False\napplication_underwriting_score      False\nno_of_premiums_paid                 False\nsourcing_channel                    False\nresidence_area_type                 False\ndtype: bool"
                    },
                    "execution_count": 66,
                    "metadata": {},
                    "output_type": "execute_result"
                }
            ],
            "source": "test.isnull().any(axis=0)"
        },
        {
            "cell_type": "code",
            "execution_count": 67,
            "metadata": {},
            "outputs": [
                {
                    "data": {
                        "text/plain": "id                                  False\nperc_premium_paid_by_cash_credit    False\nage_in_days                         False\nIncome                              False\nCount_3_6_months_late               False\nCount_6_12_months_late              False\nCount_more_than_12_months_late      False\napplication_underwriting_score      False\nno_of_premiums_paid                 False\nsourcing_channel                    False\nresidence_area_type                 False\ntarget                              False\ndtype: bool"
                    },
                    "execution_count": 67,
                    "metadata": {},
                    "output_type": "execute_result"
                }
            ],
            "source": "train.isnull().any(axis = 0)"
        },
        {
            "cell_type": "code",
            "execution_count": 68,
            "metadata": {},
            "outputs": [
                {
                    "data": {
                        "text/html": "<div>\n<style scoped>\n    .dataframe tbody tr th:only-of-type {\n        vertical-align: middle;\n    }\n\n    .dataframe tbody tr th {\n        vertical-align: top;\n    }\n\n    .dataframe thead th {\n        text-align: right;\n    }\n</style>\n<table border=\"1\" class=\"dataframe\">\n  <thead>\n    <tr style=\"text-align: right;\">\n      <th></th>\n      <th>id</th>\n      <th>perc_premium_paid_by_cash_credit</th>\n      <th>age_in_days</th>\n      <th>Income</th>\n      <th>Count_3_6_months_late</th>\n      <th>Count_6_12_months_late</th>\n      <th>Count_more_than_12_months_late</th>\n      <th>application_underwriting_score</th>\n      <th>no_of_premiums_paid</th>\n      <th>target</th>\n      <th>sourcing_channel_A</th>\n      <th>sourcing_channel_B</th>\n      <th>sourcing_channel_C</th>\n      <th>sourcing_channel_D</th>\n      <th>sourcing_channel_E</th>\n      <th>residence_area_type_Rural</th>\n      <th>residence_area_type_Urban</th>\n    </tr>\n  </thead>\n  <tbody>\n    <tr>\n      <th>0</th>\n      <td>110936</td>\n      <td>0.429</td>\n      <td>12058</td>\n      <td>355060</td>\n      <td>0.0</td>\n      <td>0.0</td>\n      <td>0.0</td>\n      <td>99.02</td>\n      <td>13</td>\n      <td>1</td>\n      <td>0</td>\n      <td>0</td>\n      <td>1</td>\n      <td>0</td>\n      <td>0</td>\n      <td>0</td>\n      <td>1</td>\n    </tr>\n    <tr>\n      <th>1</th>\n      <td>41492</td>\n      <td>0.010</td>\n      <td>21546</td>\n      <td>315150</td>\n      <td>0.0</td>\n      <td>0.0</td>\n      <td>0.0</td>\n      <td>99.89</td>\n      <td>21</td>\n      <td>1</td>\n      <td>1</td>\n      <td>0</td>\n      <td>0</td>\n      <td>0</td>\n      <td>0</td>\n      <td>0</td>\n      <td>1</td>\n    </tr>\n    <tr>\n      <th>2</th>\n      <td>31300</td>\n      <td>0.917</td>\n      <td>17531</td>\n      <td>84140</td>\n      <td>2.0</td>\n      <td>3.0</td>\n      <td>1.0</td>\n      <td>98.69</td>\n      <td>7</td>\n      <td>0</td>\n      <td>0</td>\n      <td>0</td>\n      <td>1</td>\n      <td>0</td>\n      <td>0</td>\n      <td>1</td>\n      <td>0</td>\n    </tr>\n    <tr>\n      <th>3</th>\n      <td>19415</td>\n      <td>0.049</td>\n      <td>15341</td>\n      <td>250510</td>\n      <td>0.0</td>\n      <td>0.0</td>\n      <td>0.0</td>\n      <td>99.57</td>\n      <td>9</td>\n      <td>1</td>\n      <td>1</td>\n      <td>0</td>\n      <td>0</td>\n      <td>0</td>\n      <td>0</td>\n      <td>0</td>\n      <td>1</td>\n    </tr>\n    <tr>\n      <th>4</th>\n      <td>99379</td>\n      <td>0.052</td>\n      <td>31400</td>\n      <td>198680</td>\n      <td>0.0</td>\n      <td>0.0</td>\n      <td>0.0</td>\n      <td>99.87</td>\n      <td>12</td>\n      <td>1</td>\n      <td>0</td>\n      <td>1</td>\n      <td>0</td>\n      <td>0</td>\n      <td>0</td>\n      <td>0</td>\n      <td>1</td>\n    </tr>\n  </tbody>\n</table>\n</div>",
                        "text/plain": "       id  perc_premium_paid_by_cash_credit  age_in_days  Income  \\\n0  110936                             0.429        12058  355060   \n1   41492                             0.010        21546  315150   \n2   31300                             0.917        17531   84140   \n3   19415                             0.049        15341  250510   \n4   99379                             0.052        31400  198680   \n\n   Count_3_6_months_late  Count_6_12_months_late  \\\n0                    0.0                     0.0   \n1                    0.0                     0.0   \n2                    2.0                     3.0   \n3                    0.0                     0.0   \n4                    0.0                     0.0   \n\n   Count_more_than_12_months_late  application_underwriting_score  \\\n0                             0.0                           99.02   \n1                             0.0                           99.89   \n2                             1.0                           98.69   \n3                             0.0                           99.57   \n4                             0.0                           99.87   \n\n   no_of_premiums_paid  target  sourcing_channel_A  sourcing_channel_B  \\\n0                   13       1                   0                   0   \n1                   21       1                   1                   0   \n2                    7       0                   0                   0   \n3                    9       1                   1                   0   \n4                   12       1                   0                   1   \n\n   sourcing_channel_C  sourcing_channel_D  sourcing_channel_E  \\\n0                   1                   0                   0   \n1                   0                   0                   0   \n2                   1                   0                   0   \n3                   0                   0                   0   \n4                   0                   0                   0   \n\n   residence_area_type_Rural  residence_area_type_Urban  \n0                          0                          1  \n1                          0                          1  \n2                          1                          0  \n3                          0                          1  \n4                          0                          1  "
                    },
                    "execution_count": 68,
                    "metadata": {},
                    "output_type": "execute_result"
                }
            ],
            "source": "train=pd.get_dummies(train)\ntrain.head()"
        },
        {
            "cell_type": "code",
            "execution_count": 69,
            "metadata": {},
            "outputs": [
                {
                    "data": {
                        "text/html": "<div>\n<style scoped>\n    .dataframe tbody tr th:only-of-type {\n        vertical-align: middle;\n    }\n\n    .dataframe tbody tr th {\n        vertical-align: top;\n    }\n\n    .dataframe thead th {\n        text-align: right;\n    }\n</style>\n<table border=\"1\" class=\"dataframe\">\n  <thead>\n    <tr style=\"text-align: right;\">\n      <th></th>\n      <th>id</th>\n      <th>perc_premium_paid_by_cash_credit</th>\n      <th>age_in_days</th>\n      <th>Income</th>\n      <th>Count_3_6_months_late</th>\n      <th>Count_6_12_months_late</th>\n      <th>Count_more_than_12_months_late</th>\n      <th>application_underwriting_score</th>\n      <th>no_of_premiums_paid</th>\n      <th>sourcing_channel_A</th>\n      <th>sourcing_channel_B</th>\n      <th>sourcing_channel_C</th>\n      <th>sourcing_channel_D</th>\n      <th>sourcing_channel_E</th>\n      <th>residence_area_type_Rural</th>\n      <th>residence_area_type_Urban</th>\n    </tr>\n  </thead>\n  <tbody>\n    <tr>\n      <th>0</th>\n      <td>649</td>\n      <td>0.001</td>\n      <td>27384</td>\n      <td>51150</td>\n      <td>0.0</td>\n      <td>0.0</td>\n      <td>0.0</td>\n      <td>99.89</td>\n      <td>7</td>\n      <td>1</td>\n      <td>0</td>\n      <td>0</td>\n      <td>0</td>\n      <td>0</td>\n      <td>1</td>\n      <td>0</td>\n    </tr>\n    <tr>\n      <th>1</th>\n      <td>81136</td>\n      <td>0.124</td>\n      <td>23735</td>\n      <td>285140</td>\n      <td>0.0</td>\n      <td>0.0</td>\n      <td>0.0</td>\n      <td>98.93</td>\n      <td>19</td>\n      <td>1</td>\n      <td>0</td>\n      <td>0</td>\n      <td>0</td>\n      <td>0</td>\n      <td>0</td>\n      <td>1</td>\n    </tr>\n    <tr>\n      <th>2</th>\n      <td>70762</td>\n      <td>1.000</td>\n      <td>17170</td>\n      <td>186030</td>\n      <td>0.0</td>\n      <td>0.0</td>\n      <td>0.0</td>\n      <td>99.21</td>\n      <td>2</td>\n      <td>0</td>\n      <td>1</td>\n      <td>0</td>\n      <td>0</td>\n      <td>0</td>\n      <td>0</td>\n      <td>1</td>\n    </tr>\n    <tr>\n      <th>3</th>\n      <td>53935</td>\n      <td>0.198</td>\n      <td>16068</td>\n      <td>123540</td>\n      <td>0.0</td>\n      <td>0.0</td>\n      <td>0.0</td>\n      <td>99.00</td>\n      <td>11</td>\n      <td>0</td>\n      <td>1</td>\n      <td>0</td>\n      <td>0</td>\n      <td>0</td>\n      <td>1</td>\n      <td>0</td>\n    </tr>\n    <tr>\n      <th>4</th>\n      <td>15476</td>\n      <td>0.041</td>\n      <td>10591</td>\n      <td>200020</td>\n      <td>1.0</td>\n      <td>0.0</td>\n      <td>0.0</td>\n      <td>99.17</td>\n      <td>14</td>\n      <td>1</td>\n      <td>0</td>\n      <td>0</td>\n      <td>0</td>\n      <td>0</td>\n      <td>1</td>\n      <td>0</td>\n    </tr>\n  </tbody>\n</table>\n</div>",
                        "text/plain": "      id  perc_premium_paid_by_cash_credit  age_in_days  Income  \\\n0    649                             0.001        27384   51150   \n1  81136                             0.124        23735  285140   \n2  70762                             1.000        17170  186030   \n3  53935                             0.198        16068  123540   \n4  15476                             0.041        10591  200020   \n\n   Count_3_6_months_late  Count_6_12_months_late  \\\n0                    0.0                     0.0   \n1                    0.0                     0.0   \n2                    0.0                     0.0   \n3                    0.0                     0.0   \n4                    1.0                     0.0   \n\n   Count_more_than_12_months_late  application_underwriting_score  \\\n0                             0.0                           99.89   \n1                             0.0                           98.93   \n2                             0.0                           99.21   \n3                             0.0                           99.00   \n4                             0.0                           99.17   \n\n   no_of_premiums_paid  sourcing_channel_A  sourcing_channel_B  \\\n0                    7                   1                   0   \n1                   19                   1                   0   \n2                    2                   0                   1   \n3                   11                   0                   1   \n4                   14                   1                   0   \n\n   sourcing_channel_C  sourcing_channel_D  sourcing_channel_E  \\\n0                   0                   0                   0   \n1                   0                   0                   0   \n2                   0                   0                   0   \n3                   0                   0                   0   \n4                   0                   0                   0   \n\n   residence_area_type_Rural  residence_area_type_Urban  \n0                          1                          0  \n1                          0                          1  \n2                          0                          1  \n3                          1                          0  \n4                          1                          0  "
                    },
                    "execution_count": 69,
                    "metadata": {},
                    "output_type": "execute_result"
                }
            ],
            "source": "test=pd.get_dummies(test)\ntest.head()"
        },
        {
            "cell_type": "code",
            "execution_count": 70,
            "metadata": {},
            "outputs": [],
            "source": "x = train.drop(('target'),axis=1)\nx = x.drop(('id'),axis=1).values\n\ny = train['target'].values"
        },
        {
            "cell_type": "code",
            "execution_count": 71,
            "metadata": {},
            "outputs": [
                {
                    "data": {
                        "text/plain": "array([[4.2900e-01, 1.2058e+04, 3.5506e+05, ..., 0.0000e+00, 0.0000e+00,\n        1.0000e+00],\n       [1.0000e-02, 2.1546e+04, 3.1515e+05, ..., 0.0000e+00, 0.0000e+00,\n        1.0000e+00],\n       [9.1700e-01, 1.7531e+04, 8.4140e+04, ..., 0.0000e+00, 1.0000e+00,\n        0.0000e+00],\n       ...,\n       [0.0000e+00, 2.3372e+04, 3.0502e+05, ..., 0.0000e+00, 1.0000e+00,\n        0.0000e+00],\n       [3.9800e-01, 2.2641e+04, 3.9330e+04, ..., 0.0000e+00, 1.0000e+00,\n        0.0000e+00],\n       [5.5000e-01, 1.5709e+04, 2.8014e+05, ..., 0.0000e+00, 0.0000e+00,\n        1.0000e+00]])"
                    },
                    "execution_count": 71,
                    "metadata": {},
                    "output_type": "execute_result"
                }
            ],
            "source": "x"
        },
        {
            "cell_type": "code",
            "execution_count": 72,
            "metadata": {},
            "outputs": [
                {
                    "data": {
                        "text/plain": "array([1, 1, 0, ..., 1, 1, 0])"
                    },
                    "execution_count": 72,
                    "metadata": {},
                    "output_type": "execute_result"
                }
            ],
            "source": "y"
        },
        {
            "cell_type": "code",
            "execution_count": 73,
            "metadata": {},
            "outputs": [],
            "source": "from sklearn.model_selection import train_test_split\nx_train,x_test,y_train,y_test = train_test_split(x,y,test_size = 0.40,random_state = 0)"
        },
        {
            "cell_type": "code",
            "execution_count": 74,
            "metadata": {},
            "outputs": [
                {
                    "name": "stdout",
                    "output_type": "stream",
                    "text": "x_train (47911, 15)\nx_test (31942, 15)\ny_train (47911,)\ny_test (31942,)\n"
                }
            ],
            "source": "print('x_train',x_train.shape)\nprint('x_test',x_test.shape)\nprint('y_train',y_train.shape)\nprint('y_test',y_test.shape)"
        },
        {
            "cell_type": "code",
            "execution_count": 75,
            "metadata": {},
            "outputs": [
                {
                    "data": {
                        "text/plain": "array([[6.3100e-01, 1.9353e+04, 1.1061e+05, ..., 0.0000e+00, 0.0000e+00,\n        1.0000e+00],\n       [2.2200e-01, 1.1325e+04, 9.3030e+04, ..., 0.0000e+00, 1.0000e+00,\n        0.0000e+00],\n       [8.1000e-02, 1.9724e+04, 3.4160e+05, ..., 0.0000e+00, 0.0000e+00,\n        1.0000e+00],\n       ...,\n       [5.1900e-01, 1.6437e+04, 1.9709e+05, ..., 0.0000e+00, 0.0000e+00,\n        1.0000e+00],\n       [6.3400e-01, 1.3520e+04, 1.8263e+05, ..., 0.0000e+00, 0.0000e+00,\n        1.0000e+00],\n       [6.3000e-02, 1.9719e+04, 2.1351e+05, ..., 0.0000e+00, 0.0000e+00,\n        1.0000e+00]])"
                    },
                    "execution_count": 75,
                    "metadata": {},
                    "output_type": "execute_result"
                }
            ],
            "source": "x_train"
        },
        {
            "cell_type": "code",
            "execution_count": 76,
            "metadata": {},
            "outputs": [],
            "source": "from sklearn.preprocessing import StandardScaler\nscaler = StandardScaler()\nx_train = scaler.fit_transform(x_train)\nx_test = scaler.transform(x_test)"
        },
        {
            "cell_type": "code",
            "execution_count": 77,
            "metadata": {},
            "outputs": [],
            "source": "from sklearn.linear_model import LogisticRegression "
        },
        {
            "cell_type": "code",
            "execution_count": 78,
            "metadata": {},
            "outputs": [],
            "source": "log=LogisticRegression()"
        },
        {
            "cell_type": "code",
            "execution_count": 79,
            "metadata": {},
            "outputs": [
                {
                    "name": "stderr",
                    "output_type": "stream",
                    "text": "/opt/conda/envs/Python36/lib/python3.6/site-packages/sklearn/linear_model/logistic.py:433: FutureWarning: Default solver will be changed to 'lbfgs' in 0.22. Specify a solver to silence this warning.\n  FutureWarning)\n"
                },
                {
                    "data": {
                        "text/plain": "LogisticRegression(C=1.0, class_weight=None, dual=False, fit_intercept=True,\n          intercept_scaling=1, max_iter=100, multi_class='warn',\n          n_jobs=None, penalty='l2', random_state=None, solver='warn',\n          tol=0.0001, verbose=0, warm_start=False)"
                    },
                    "execution_count": 79,
                    "metadata": {},
                    "output_type": "execute_result"
                }
            ],
            "source": "log.fit(x_train,y_train)"
        },
        {
            "cell_type": "code",
            "execution_count": 80,
            "metadata": {},
            "outputs": [
                {
                    "name": "stderr",
                    "output_type": "stream",
                    "text": "/opt/conda/envs/Python36/lib/python3.6/site-packages/sklearn/linear_model/logistic.py:433: FutureWarning: Default solver will be changed to 'lbfgs' in 0.22. Specify a solver to silence this warning.\n  FutureWarning)\n"
                },
                {
                    "data": {
                        "text/plain": "LogisticRegression(C=1.0, class_weight=None, dual=False, fit_intercept=True,\n          intercept_scaling=1, max_iter=100, multi_class='warn',\n          n_jobs=None, penalty='l2', random_state=None, solver='warn',\n          tol=0.0001, verbose=0, warm_start=False)"
                    },
                    "execution_count": 80,
                    "metadata": {},
                    "output_type": "execute_result"
                }
            ],
            "source": "log.fit(x_test,y_test)"
        },
        {
            "cell_type": "code",
            "execution_count": 81,
            "metadata": {},
            "outputs": [
                {
                    "data": {
                        "text/plain": "array([1, 1, 1, ..., 1, 1, 1])"
                    },
                    "execution_count": 81,
                    "metadata": {},
                    "output_type": "execute_result"
                }
            ],
            "source": "pred=log.predict(x_test)\npred"
        },
        {
            "cell_type": "code",
            "execution_count": 82,
            "metadata": {},
            "outputs": [
                {
                    "data": {
                        "text/plain": "0.9400475862500782"
                    },
                    "execution_count": 82,
                    "metadata": {},
                    "output_type": "execute_result"
                }
            ],
            "source": "from sklearn.metrics import accuracy_score\nscore=accuracy_score(y_test,pred)\nscore"
        },
        {
            "cell_type": "code",
            "execution_count": 83,
            "metadata": {},
            "outputs": [
                {
                    "data": {
                        "text/plain": "array([[0.11705164, 0.88294836],\n       [0.05549618, 0.94450382],\n       [0.01977342, 0.98022658],\n       ...,\n       [0.01708392, 0.98291608],\n       [0.07229576, 0.92770424],\n       [0.02250144, 0.97749856]])"
                    },
                    "execution_count": 83,
                    "metadata": {},
                    "output_type": "execute_result"
                }
            ],
            "source": "pred_prob=log.predict_proba(x_test)\npred_prob"
        },
        {
            "cell_type": "code",
            "execution_count": 84,
            "metadata": {},
            "outputs": [],
            "source": "from sklearn.metrics import roc_auc_score\nauc_score1 = roc_auc_score(y_test, pred_prob[:,1])"
        },
        {
            "cell_type": "code",
            "execution_count": 85,
            "metadata": {},
            "outputs": [
                {
                    "data": {
                        "text/plain": "0.8289549238907202"
                    },
                    "execution_count": 85,
                    "metadata": {},
                    "output_type": "execute_result"
                }
            ],
            "source": "auc_score1"
        },
        {
            "cell_type": "code",
            "execution_count": 86,
            "metadata": {},
            "outputs": [
                {
                    "data": {
                        "text/plain": "array([[1.0000e-03, 2.7384e+04, 5.1150e+04, ..., 0.0000e+00, 1.0000e+00,\n        0.0000e+00],\n       [1.2400e-01, 2.3735e+04, 2.8514e+05, ..., 0.0000e+00, 0.0000e+00,\n        1.0000e+00],\n       [1.0000e+00, 1.7170e+04, 1.8603e+05, ..., 0.0000e+00, 0.0000e+00,\n        1.0000e+00],\n       ...,\n       [3.2500e-01, 1.8264e+04, 1.9657e+05, ..., 0.0000e+00, 1.0000e+00,\n        0.0000e+00],\n       [9.8300e-01, 1.6798e+04, 2.1215e+05, ..., 0.0000e+00, 0.0000e+00,\n        1.0000e+00],\n       [5.0000e-03, 2.4467e+04, 8.9190e+04, ..., 0.0000e+00, 0.0000e+00,\n        1.0000e+00]])"
                    },
                    "execution_count": 86,
                    "metadata": {},
                    "output_type": "execute_result"
                }
            ],
            "source": "validation = test.drop(('id'),axis = 1).values\nvalidation"
        },
        {
            "cell_type": "code",
            "execution_count": 87,
            "metadata": {},
            "outputs": [],
            "source": "validation = scaler.transform(validation)"
        },
        {
            "cell_type": "code",
            "execution_count": 88,
            "metadata": {},
            "outputs": [],
            "source": "prediction_proba =log.predict_proba(validation)"
        },
        {
            "cell_type": "code",
            "execution_count": 89,
            "metadata": {},
            "outputs": [
                {
                    "data": {
                        "text/plain": "array([[0.0091477 , 0.9908523 ],\n       [0.02115709, 0.97884291],\n       [0.08267268, 0.91732732],\n       ...,\n       [0.0384713 , 0.9615287 ],\n       [0.24310488, 0.75689512],\n       [0.02470456, 0.97529544]])"
                    },
                    "execution_count": 89,
                    "metadata": {},
                    "output_type": "execute_result"
                }
            ],
            "source": "prediction_proba"
        },
        {
            "cell_type": "code",
            "execution_count": 90,
            "metadata": {},
            "outputs": [],
            "source": "final_prediction = pd.DataFrame()\n"
        },
        {
            "cell_type": "code",
            "execution_count": 91,
            "metadata": {},
            "outputs": [],
            "source": "final_prediction['id'] = test.id\nfinal_prediction['target'] = prediction_proba[:,1]"
        },
        {
            "cell_type": "code",
            "execution_count": 92,
            "metadata": {},
            "outputs": [
                {
                    "data": {
                        "text/html": "<div>\n<style scoped>\n    .dataframe tbody tr th:only-of-type {\n        vertical-align: middle;\n    }\n\n    .dataframe tbody tr th {\n        vertical-align: top;\n    }\n\n    .dataframe thead th {\n        text-align: right;\n    }\n</style>\n<table border=\"1\" class=\"dataframe\">\n  <thead>\n    <tr style=\"text-align: right;\">\n      <th></th>\n      <th>id</th>\n      <th>target</th>\n    </tr>\n  </thead>\n  <tbody>\n    <tr>\n      <th>0</th>\n      <td>649</td>\n      <td>0.990852</td>\n    </tr>\n    <tr>\n      <th>1</th>\n      <td>81136</td>\n      <td>0.978843</td>\n    </tr>\n    <tr>\n      <th>2</th>\n      <td>70762</td>\n      <td>0.917327</td>\n    </tr>\n    <tr>\n      <th>3</th>\n      <td>53935</td>\n      <td>0.969684</td>\n    </tr>\n    <tr>\n      <th>4</th>\n      <td>15476</td>\n      <td>0.953057</td>\n    </tr>\n    <tr>\n      <th>5</th>\n      <td>64797</td>\n      <td>0.977052</td>\n    </tr>\n    <tr>\n      <th>6</th>\n      <td>67412</td>\n      <td>0.588865</td>\n    </tr>\n    <tr>\n      <th>7</th>\n      <td>44241</td>\n      <td>0.876420</td>\n    </tr>\n    <tr>\n      <th>8</th>\n      <td>5069</td>\n      <td>0.986571</td>\n    </tr>\n    <tr>\n      <th>9</th>\n      <td>16615</td>\n      <td>0.987709</td>\n    </tr>\n    <tr>\n      <th>10</th>\n      <td>84281</td>\n      <td>0.979782</td>\n    </tr>\n    <tr>\n      <th>11</th>\n      <td>82623</td>\n      <td>0.969285</td>\n    </tr>\n    <tr>\n      <th>12</th>\n      <td>86475</td>\n      <td>0.655477</td>\n    </tr>\n    <tr>\n      <th>13</th>\n      <td>68263</td>\n      <td>0.888749</td>\n    </tr>\n    <tr>\n      <th>14</th>\n      <td>113135</td>\n      <td>0.945750</td>\n    </tr>\n    <tr>\n      <th>15</th>\n      <td>45532</td>\n      <td>0.960138</td>\n    </tr>\n    <tr>\n      <th>16</th>\n      <td>102161</td>\n      <td>0.989485</td>\n    </tr>\n    <tr>\n      <th>17</th>\n      <td>84789</td>\n      <td>0.378477</td>\n    </tr>\n    <tr>\n      <th>18</th>\n      <td>62398</td>\n      <td>0.961724</td>\n    </tr>\n    <tr>\n      <th>19</th>\n      <td>70148</td>\n      <td>0.973569</td>\n    </tr>\n    <tr>\n      <th>20</th>\n      <td>102487</td>\n      <td>0.880929</td>\n    </tr>\n    <tr>\n      <th>21</th>\n      <td>100513</td>\n      <td>0.922566</td>\n    </tr>\n    <tr>\n      <th>22</th>\n      <td>92702</td>\n      <td>0.908732</td>\n    </tr>\n    <tr>\n      <th>23</th>\n      <td>25051</td>\n      <td>0.814010</td>\n    </tr>\n    <tr>\n      <th>24</th>\n      <td>92920</td>\n      <td>0.986438</td>\n    </tr>\n    <tr>\n      <th>25</th>\n      <td>25520</td>\n      <td>0.947895</td>\n    </tr>\n    <tr>\n      <th>26</th>\n      <td>81869</td>\n      <td>0.960451</td>\n    </tr>\n    <tr>\n      <th>27</th>\n      <td>75402</td>\n      <td>0.982210</td>\n    </tr>\n    <tr>\n      <th>28</th>\n      <td>34053</td>\n      <td>0.787527</td>\n    </tr>\n    <tr>\n      <th>29</th>\n      <td>21191</td>\n      <td>0.975769</td>\n    </tr>\n    <tr>\n      <th>...</th>\n      <td>...</td>\n      <td>...</td>\n    </tr>\n    <tr>\n      <th>34194</th>\n      <td>79950</td>\n      <td>0.983769</td>\n    </tr>\n    <tr>\n      <th>34195</th>\n      <td>30272</td>\n      <td>0.986434</td>\n    </tr>\n    <tr>\n      <th>34196</th>\n      <td>85914</td>\n      <td>0.990816</td>\n    </tr>\n    <tr>\n      <th>34197</th>\n      <td>10922</td>\n      <td>0.981689</td>\n    </tr>\n    <tr>\n      <th>34198</th>\n      <td>93046</td>\n      <td>0.983329</td>\n    </tr>\n    <tr>\n      <th>34199</th>\n      <td>52826</td>\n      <td>0.938097</td>\n    </tr>\n    <tr>\n      <th>34200</th>\n      <td>35994</td>\n      <td>0.981833</td>\n    </tr>\n    <tr>\n      <th>34201</th>\n      <td>1512</td>\n      <td>0.981848</td>\n    </tr>\n    <tr>\n      <th>34202</th>\n      <td>52077</td>\n      <td>0.966020</td>\n    </tr>\n    <tr>\n      <th>34203</th>\n      <td>95749</td>\n      <td>0.971408</td>\n    </tr>\n    <tr>\n      <th>34204</th>\n      <td>49946</td>\n      <td>0.973091</td>\n    </tr>\n    <tr>\n      <th>34205</th>\n      <td>66811</td>\n      <td>0.973462</td>\n    </tr>\n    <tr>\n      <th>34206</th>\n      <td>53438</td>\n      <td>0.988407</td>\n    </tr>\n    <tr>\n      <th>34207</th>\n      <td>24435</td>\n      <td>0.979764</td>\n    </tr>\n    <tr>\n      <th>34208</th>\n      <td>17848</td>\n      <td>0.959772</td>\n    </tr>\n    <tr>\n      <th>34209</th>\n      <td>53626</td>\n      <td>0.975206</td>\n    </tr>\n    <tr>\n      <th>34210</th>\n      <td>87268</td>\n      <td>0.985145</td>\n    </tr>\n    <tr>\n      <th>34211</th>\n      <td>58450</td>\n      <td>0.976263</td>\n    </tr>\n    <tr>\n      <th>34212</th>\n      <td>48188</td>\n      <td>0.981986</td>\n    </tr>\n    <tr>\n      <th>34213</th>\n      <td>44239</td>\n      <td>0.955837</td>\n    </tr>\n    <tr>\n      <th>34214</th>\n      <td>24582</td>\n      <td>0.943098</td>\n    </tr>\n    <tr>\n      <th>34215</th>\n      <td>79939</td>\n      <td>0.962631</td>\n    </tr>\n    <tr>\n      <th>34216</th>\n      <td>63759</td>\n      <td>0.974363</td>\n    </tr>\n    <tr>\n      <th>34217</th>\n      <td>63725</td>\n      <td>0.782320</td>\n    </tr>\n    <tr>\n      <th>34218</th>\n      <td>37116</td>\n      <td>0.962119</td>\n    </tr>\n    <tr>\n      <th>34219</th>\n      <td>81988</td>\n      <td>0.969873</td>\n    </tr>\n    <tr>\n      <th>34220</th>\n      <td>30326</td>\n      <td>0.981040</td>\n    </tr>\n    <tr>\n      <th>34221</th>\n      <td>65749</td>\n      <td>0.961529</td>\n    </tr>\n    <tr>\n      <th>34222</th>\n      <td>65686</td>\n      <td>0.756895</td>\n    </tr>\n    <tr>\n      <th>34223</th>\n      <td>93826</td>\n      <td>0.975295</td>\n    </tr>\n  </tbody>\n</table>\n<p>34224 rows \u00d7 2 columns</p>\n</div>",
                        "text/plain": "           id    target\n0         649  0.990852\n1       81136  0.978843\n2       70762  0.917327\n3       53935  0.969684\n4       15476  0.953057\n5       64797  0.977052\n6       67412  0.588865\n7       44241  0.876420\n8        5069  0.986571\n9       16615  0.987709\n10      84281  0.979782\n11      82623  0.969285\n12      86475  0.655477\n13      68263  0.888749\n14     113135  0.945750\n15      45532  0.960138\n16     102161  0.989485\n17      84789  0.378477\n18      62398  0.961724\n19      70148  0.973569\n20     102487  0.880929\n21     100513  0.922566\n22      92702  0.908732\n23      25051  0.814010\n24      92920  0.986438\n25      25520  0.947895\n26      81869  0.960451\n27      75402  0.982210\n28      34053  0.787527\n29      21191  0.975769\n...       ...       ...\n34194   79950  0.983769\n34195   30272  0.986434\n34196   85914  0.990816\n34197   10922  0.981689\n34198   93046  0.983329\n34199   52826  0.938097\n34200   35994  0.981833\n34201    1512  0.981848\n34202   52077  0.966020\n34203   95749  0.971408\n34204   49946  0.973091\n34205   66811  0.973462\n34206   53438  0.988407\n34207   24435  0.979764\n34208   17848  0.959772\n34209   53626  0.975206\n34210   87268  0.985145\n34211   58450  0.976263\n34212   48188  0.981986\n34213   44239  0.955837\n34214   24582  0.943098\n34215   79939  0.962631\n34216   63759  0.974363\n34217   63725  0.782320\n34218   37116  0.962119\n34219   81988  0.969873\n34220   30326  0.981040\n34221   65749  0.961529\n34222   65686  0.756895\n34223   93826  0.975295\n\n[34224 rows x 2 columns]"
                    },
                    "execution_count": 92,
                    "metadata": {},
                    "output_type": "execute_result"
                }
            ],
            "source": "final_prediction"
        },
        {
            "cell_type": "code",
            "execution_count": 95,
            "metadata": {},
            "outputs": [],
            "source": "final_prediction.to_csv(\"sample1.csv\", index = False)"
        },
        {
            "cell_type": "code",
            "execution_count": null,
            "metadata": {},
            "outputs": [],
            "source": ""
        },
        {
            "cell_type": "code",
            "execution_count": null,
            "metadata": {},
            "outputs": [],
            "source": ""
        }
    ],
    "metadata": {
        "kernelspec": {
            "display_name": "Python 3.6",
            "language": "python",
            "name": "python3"
        },
        "language_info": {
            "codemirror_mode": {
                "name": "ipython",
                "version": 3
            },
            "file_extension": ".py",
            "mimetype": "text/x-python",
            "name": "python",
            "nbconvert_exporter": "python",
            "pygments_lexer": "ipython3",
            "version": "3.6.9"
        }
    },
    "nbformat": 4,
    "nbformat_minor": 1
}